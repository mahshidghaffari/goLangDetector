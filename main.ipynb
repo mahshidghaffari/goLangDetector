{
 "cells": [
  {
   "cell_type": "code",
   "execution_count": 26,
   "metadata": {
    "collapsed": true
   },
   "outputs": [],
   "source": [
    "import pandas as pd\n",
    "import random\n",
    "import spacy\n",
    "nlp = spacy.load(\"en_core_web_sm\")"
   ]
  },
  {
   "cell_type": "code",
   "execution_count": 20,
   "outputs": [
    {
     "data": {
      "text/plain": "['What is C11 cor 1:2012?',\n 'How can I get the all the tag data with each task from the asana api?',\n 'Specify the limit of runnable objects to be added to ExecutorService',\n \"Build a query to return both a user and the user's friends\",\n 'How to use recursion to automate repetitive tasks in Racket or Scheme?',\n 'Does using asset catalogs work for all images in app or just icon/launch images',\n 'ln fails when trying to manully trigger race conditoin',\n 'Help optimizing an Oracle query',\n 'Decreasing timer interval in WP7 Silverlight',\n 'Error LNK2028: unresolved token (0A00000D) \"extern \"C\" void __cdecl',\n 'Create statically linked libraries for iOS',\n 'Arrayfun syntax and usage with class method',\n 'View the data inserted into Taffy Database',\n 'Help with file upload in Java/J2EE',\n \"Button's don't work when clicked on, Code is correct\",\n 'ServiceStack Ormlite and RowVersion support',\n 'hibernate query cache with Collection',\n 'Working with native MongoDB driver using Mongoose',\n \"Google Sites HTML Box isn't recognizing CSS or Javascript\",\n 'Redirect to Login page if ther user not logged in Laravel']"
     },
     "execution_count": 20,
     "metadata": {},
     "output_type": "execute_result"
    }
   ],
   "source": [
    "df = (pd.read_csv(\"archive/Questions.csv\",nrows=1_000_000,encoding=\"ISO-8859-1\",usecols=['Title','Id']))\n",
    "titles = [_ for _ in df['Title']]\n",
    "random.choices(titles,k=20)"
   ],
   "metadata": {
    "collapsed": false
   }
  },
  {
   "cell_type": "code",
   "execution_count": 35,
   "outputs": [
    {
     "data": {
      "text/plain": "['Can I append an Ajax requestXML object to my document tree all in one go?',\n 'How to Create a Dropdown List Hyperlink without the GO button?',\n 'How do I disable multiple listboxes in one go using jQuery?',\n 'Embedding instead of inheritance in Go',\n 'Shared library in Go?']"
     },
     "execution_count": 35,
     "metadata": {},
     "output_type": "execute_result"
    }
   ],
   "source": [
    "def has_goLang(text):\n",
    "    doc = nlp(text)\n",
    "    for t in doc:\n",
    "        if t.lower_ in [\"go\",\"golang\"] :\n",
    "            if t.pos_ != 'VERB':\n",
    "                return True\n",
    "    return False\n",
    "\n",
    "g = (title for title in titles if (has_goLang(title)))\n",
    "[next(g) for i in range(5)]"
   ],
   "metadata": {
    "collapsed": false
   }
  },
  {
   "cell_type": "code",
   "execution_count": 31,
   "outputs": [],
   "source": [],
   "metadata": {
    "collapsed": false
   }
  },
  {
   "cell_type": "code",
   "execution_count": 17,
   "outputs": [
    {
     "data": {
      "text/plain": "spacy.tokens.token.Token"
     },
     "execution_count": 17,
     "metadata": {},
     "output_type": "execute_result"
    }
   ],
   "source": [],
   "metadata": {
    "collapsed": false
   }
  }
 ],
 "metadata": {
  "kernelspec": {
   "display_name": "Python 3",
   "language": "python",
   "name": "python3"
  },
  "language_info": {
   "codemirror_mode": {
    "name": "ipython",
    "version": 2
   },
   "file_extension": ".py",
   "mimetype": "text/x-python",
   "name": "python",
   "nbconvert_exporter": "python",
   "pygments_lexer": "ipython2",
   "version": "2.7.6"
  }
 },
 "nbformat": 4,
 "nbformat_minor": 0
}
