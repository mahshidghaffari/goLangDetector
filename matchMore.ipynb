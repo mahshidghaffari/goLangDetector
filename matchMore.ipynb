{
 "cells": [
  {
   "cell_type": "markdown",
   "metadata": {},
   "source": [
    "online matcher website for space : https://demos.explosion.ai/matcher"
   ]
  },
  {
   "cell_type": "code",
   "execution_count": 6,
   "metadata": {},
   "outputs": [],
   "source": [
    "import spacy\n",
    "import pandas as pd\n",
    "from spacy import displacy\n",
    "from spacy.matcher import Matcher"
   ]
  },
  {
   "cell_type": "code",
   "execution_count": 2,
   "outputs": [],
   "source": [
    "nlp = spacy.load(\"en_core_web_sm\")"
   ],
   "metadata": {
    "collapsed": false
   }
  },
  {
   "cell_type": "code",
   "execution_count": 3,
   "outputs": [],
   "source": [
    "def has_go_tocker(doc):\n",
    "    for t in doc:\n",
    "        if t.lower_ in ['go','golang']:\n",
    "            if t.pos_ != 'VERB':\n",
    "                return True\n",
    "    return False"
   ],
   "metadata": {
    "collapsed": false
   }
  },
  {
   "cell_type": "code",
   "execution_count": 8,
   "outputs": [],
   "source": [
    "doc = nlp(\"I like to program in go\")"
   ],
   "metadata": {
    "collapsed": false
   }
  },
  {
   "cell_type": "code",
   "execution_count": 9,
   "outputs": [
    {
     "data": {
      "text/plain": "True"
     },
     "execution_count": 9,
     "metadata": {},
     "output_type": "execute_result"
    }
   ],
   "source": [
    "has_go_tocker(doc)"
   ],
   "metadata": {
    "collapsed": false
   }
  },
  {
   "cell_type": "code",
   "execution_count": 33,
   "outputs": [],
   "source": [
    "# find the pattern in above website\n",
    "docObjective = nlp(\"I am an iOS dev and I like to code in objective-c\")\n",
    "obj_c_pattern1 = [{'LOWER': 'objective'},\n",
    "                  {'IS_PUNCT': True, 'OP': '?'},\n",
    "                  {'LOWER': 'c'}]\n",
    "obj_c_pattern2 = [{'LOWER': 'objectivec'}]\n",
    "\n",
    "golang_pattern1 = [{'LOWER': 'golang'}]\n",
    "golang_pattern2 = [{'LOWER': 'go',\n",
    "                    'POS': {'NOT_IN': ['VERB']}}]\n",
    "\n",
    "python_pattern = [{'LOWER': 'python'}]\n",
    "ruby_pattern   = [{'LOWER': 'ruby'}]\n",
    "js_pattern     = [{'LOWER': {'IN': ['js', 'javascript']}}]\n"
   ],
   "metadata": {
    "collapsed": false
   }
  },
  {
   "cell_type": "code",
   "execution_count": 35,
   "outputs": [
    {
     "data": {
      "text/plain": "[(4002319739860662978, 11, 14)]"
     },
     "execution_count": 35,
     "metadata": {},
     "output_type": "execute_result"
    }
   ],
   "source": [
    "# matcher.add(\"OBJ_C_LANG\", [obj_c_pattern1])\n",
    "\n",
    "matcher = Matcher(nlp.vocab, validate=True)\n",
    "matcher.add(\"OBJ_C_LANG\", [obj_c_pattern1, obj_c_pattern2])\n",
    "matcher.add(\"PYTHON_LANG\", [python_pattern])\n",
    "matcher.add(\"GO_LANG\", [golang_pattern1, golang_pattern2])\n",
    "matcher.add(\"JS_LANG\", [ js_pattern])\n",
    "matcher.add(\"RUBY_LANG\", [ruby_pattern])\n",
    "\n",
    "matcher(docObjective)"
   ],
   "metadata": {
    "collapsed": false
   }
  },
  {
   "cell_type": "code",
   "execution_count": 36,
   "outputs": [
    {
     "data": {
      "text/plain": "objective-c"
     },
     "execution_count": 36,
     "metadata": {},
     "output_type": "execute_result"
    }
   ],
   "source": [
    "docObjective[11:14]"
   ],
   "metadata": {
    "collapsed": false
   }
  },
  {
   "cell_type": "code",
   "execution_count": 41,
   "outputs": [
    {
     "name": "stdout",
     "output_type": "stream",
     "text": [
      "python\n",
      "golang\n",
      "objective-c\n"
     ]
    }
   ],
   "source": [
    "doc = nlp(\"I am an iOS dev who codes in both python, go/golang as well as objective-c\")\n",
    "for match_id, start, end in matcher(doc):\n",
    "    print(doc[start: end])"
   ],
   "metadata": {
    "collapsed": false
   }
  },
  {
   "cell_type": "code",
   "execution_count": 38,
   "outputs": [],
   "source": [
    "df = (pd.read_csv(\"archive/Questions.csv\", nrows=1_000_000,\n",
    "                  encoding=\"ISO-8859-1\", usecols=['Title', 'Id']))"
   ],
   "metadata": {
    "collapsed": false
   }
  },
  {
   "cell_type": "code",
   "execution_count": 39,
   "outputs": [],
   "source": [
    "titles = (_ for _ in df['Title'] if \"python\" in _.lower())"
   ],
   "metadata": {
    "collapsed": false
   }
  },
  {
   "cell_type": "code",
   "execution_count": 40,
   "outputs": [
    {
     "name": "stdout",
     "output_type": "stream",
     "text": [
      "mod_python/MySQL error on INSERT with a lot of data: \"OperationalError: (2006, 'MySQL server has gone away')\"\n",
      "Running subversion under apache and mod_python\n",
      "What's the best way to embed IronPython inside my C# App?\n",
      "How to set the PYTHONPATH in Emacs?\n",
      "wxPython wxDC object from win32gui.GetDC\n",
      "Need skeleton code to call Excel VBA from PythonWin\n",
      "Questions for python->scheme conversion\n",
      "wxPython and sharing objects between windows\n",
      "Django on IronPython\n",
      "IronPython Webframework\n",
      "A SuggestBox for wxPython?\n",
      "Intercepting Method Access on the Host Program of IronPython\n",
      "Is there anything like IPython / IRB for Perl?\n"
     ]
    }
   ],
   "source": [
    "# find the other all of the possibility without pattern so we can see if there is any mismatch or ....\n",
    "for i in range(200):\n",
    "    doc = nlp(next(titles))\n",
    "    if len(matcher(doc)) == 0:\n",
    "        print(doc)"
   ],
   "metadata": {
    "collapsed": false
   }
  },
  {
   "cell_type": "code",
   "execution_count": null,
   "outputs": [],
   "source": [],
   "metadata": {
    "collapsed": false
   }
  }
 ],
 "metadata": {
  "kernelspec": {
   "display_name": "Python 3 (ipykernel)",
   "language": "python",
   "name": "python3"
  },
  "language_info": {
   "codemirror_mode": {
    "name": "ipython",
    "version": 3
   },
   "file_extension": ".py",
   "mimetype": "text/x-python",
   "name": "python",
   "nbconvert_exporter": "python",
   "pygments_lexer": "ipython3",
   "version": "3.10.6"
  }
 },
 "nbformat": 4,
 "nbformat_minor": 4
}
