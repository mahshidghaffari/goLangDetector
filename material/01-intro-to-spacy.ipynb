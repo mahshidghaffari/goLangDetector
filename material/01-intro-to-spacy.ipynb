{
 "cells": [
  {
   "cell_type": "markdown",
   "metadata": {},
   "source": [
    "## Start\n",
    "\n",
    "Let's first load the dataset (which can be found [here](https://www.kaggle.com/stackoverflow/stacksample)) into pandas.\n",
    "\n",
    "We'll start by grabbing a list of the question titles."
   ]
  },
  {
   "cell_type": "code",
   "execution_count": 1,
   "metadata": {},
   "outputs": [],
   "source": [
    "import pandas as pd\n",
    "\n",
    "df = (pd.read_csv(\"archive/Questions.csv\", nrows=1_000_000,\n",
    "                  encoding=\"ISO-8859-1\", usecols=['Title', 'Id']))\n",
    "titles = [_ for _ in df['Title']]"
   ]
  },
  {
   "cell_type": "code",
   "execution_count": 2,
   "metadata": {},
   "outputs": [
    {
     "data": {
      "text/plain": [
       "['Where does Console.WriteLine go in ASP.NET?',\n",
       " 'Should try...catch go inside or outside a loop?']"
      ]
     },
     "execution_count": 2,
     "metadata": {},
     "output_type": "execute_result"
    }
   ],
   "source": [
    "def has_golang(text):\n",
    "    return \" go \" in text\n",
    "\n",
    "g = (title for title in titles if has_golang(title))\n",
    "[next(g) for i in range(2)]"
   ]
  },
  {
   "cell_type": "markdown",
   "metadata": {},
   "source": [
    "It doesn't work too well. So let us try spacy first. You might need to install the language model first.\n",
    "\n",
    "```\n",
    "python -m spacy download en_core_web_sm\n",
    "```"
   ]
  },
  {
   "cell_type": "code",
   "execution_count": 2,
   "metadata": {},
   "outputs": [],
   "source": [
    "import spacy \n",
    "\n",
    "nlp = spacy.load(\"en_core_web_sm\")"
   ]
  },
  {
   "cell_type": "markdown",
   "metadata": {},
   "source": [
    "Let's first see how it works."
   ]
  },
  {
   "cell_type": "code",
   "execution_count": 3,
   "metadata": {},
   "outputs": [
    {
     "data": {
      "text/plain": "[My, name, is, Vincent, .]"
     },
     "execution_count": 3,
     "metadata": {},
     "output_type": "execute_result"
    }
   ],
   "source": [
    "[t for t in nlp(\"My name is Vincent.\")]"
   ]
  },
  {
   "cell_type": "code",
   "execution_count": 4,
   "metadata": {},
   "outputs": [],
   "source": [
    "doc = nlp(\"My name is Vincent.\")"
   ]
  },
  {
   "cell_type": "code",
   "execution_count": 5,
   "metadata": {},
   "outputs": [],
   "source": [
    "t = doc[0]"
   ]
  },
  {
   "cell_type": "code",
   "execution_count": 6,
   "metadata": {},
   "outputs": [
    {
     "data": {
      "text/plain": "<IPython.core.display.HTML object>",
      "text/html": "<span class=\"tex2jax_ignore\"><svg xmlns=\"http://www.w3.org/2000/svg\" xmlns:xlink=\"http://www.w3.org/1999/xlink\" xml:lang=\"en\" id=\"e75b44c26ba5428086395ef199e07032-0\" class=\"displacy\" width=\"750\" height=\"224.5\" direction=\"ltr\" style=\"max-width: none; height: 224.5px; color: #000000; background: #ffffff; font-family: Arial; direction: ltr\">\n<text class=\"displacy-token\" fill=\"currentColor\" text-anchor=\"middle\" y=\"134.5\">\n    <tspan class=\"displacy-word\" fill=\"currentColor\" x=\"50\">My</tspan>\n    <tspan class=\"displacy-tag\" dy=\"2em\" fill=\"currentColor\" x=\"50\">PRON</tspan>\n</text>\n\n<text class=\"displacy-token\" fill=\"currentColor\" text-anchor=\"middle\" y=\"134.5\">\n    <tspan class=\"displacy-word\" fill=\"currentColor\" x=\"225\">name</tspan>\n    <tspan class=\"displacy-tag\" dy=\"2em\" fill=\"currentColor\" x=\"225\">NOUN</tspan>\n</text>\n\n<text class=\"displacy-token\" fill=\"currentColor\" text-anchor=\"middle\" y=\"134.5\">\n    <tspan class=\"displacy-word\" fill=\"currentColor\" x=\"400\">is</tspan>\n    <tspan class=\"displacy-tag\" dy=\"2em\" fill=\"currentColor\" x=\"400\">AUX</tspan>\n</text>\n\n<text class=\"displacy-token\" fill=\"currentColor\" text-anchor=\"middle\" y=\"134.5\">\n    <tspan class=\"displacy-word\" fill=\"currentColor\" x=\"575\">Vincent.</tspan>\n    <tspan class=\"displacy-tag\" dy=\"2em\" fill=\"currentColor\" x=\"575\">PROPN</tspan>\n</text>\n\n<g class=\"displacy-arrow\">\n    <path class=\"displacy-arc\" id=\"arrow-e75b44c26ba5428086395ef199e07032-0-0\" stroke-width=\"2px\" d=\"M70,89.5 C70,2.0 225.0,2.0 225.0,89.5\" fill=\"none\" stroke=\"currentColor\"/>\n    <text dy=\"1.25em\" style=\"font-size: 0.8em; letter-spacing: 1px\">\n        <textPath xlink:href=\"#arrow-e75b44c26ba5428086395ef199e07032-0-0\" class=\"displacy-label\" startOffset=\"50%\" side=\"left\" fill=\"currentColor\" text-anchor=\"middle\">poss</textPath>\n    </text>\n    <path class=\"displacy-arrowhead\" d=\"M70,91.5 L62,79.5 78,79.5\" fill=\"currentColor\"/>\n</g>\n\n<g class=\"displacy-arrow\">\n    <path class=\"displacy-arc\" id=\"arrow-e75b44c26ba5428086395ef199e07032-0-1\" stroke-width=\"2px\" d=\"M245,89.5 C245,2.0 400.0,2.0 400.0,89.5\" fill=\"none\" stroke=\"currentColor\"/>\n    <text dy=\"1.25em\" style=\"font-size: 0.8em; letter-spacing: 1px\">\n        <textPath xlink:href=\"#arrow-e75b44c26ba5428086395ef199e07032-0-1\" class=\"displacy-label\" startOffset=\"50%\" side=\"left\" fill=\"currentColor\" text-anchor=\"middle\">nsubj</textPath>\n    </text>\n    <path class=\"displacy-arrowhead\" d=\"M245,91.5 L237,79.5 253,79.5\" fill=\"currentColor\"/>\n</g>\n\n<g class=\"displacy-arrow\">\n    <path class=\"displacy-arc\" id=\"arrow-e75b44c26ba5428086395ef199e07032-0-2\" stroke-width=\"2px\" d=\"M420,89.5 C420,2.0 575.0,2.0 575.0,89.5\" fill=\"none\" stroke=\"currentColor\"/>\n    <text dy=\"1.25em\" style=\"font-size: 0.8em; letter-spacing: 1px\">\n        <textPath xlink:href=\"#arrow-e75b44c26ba5428086395ef199e07032-0-2\" class=\"displacy-label\" startOffset=\"50%\" side=\"left\" fill=\"currentColor\" text-anchor=\"middle\">attr</textPath>\n    </text>\n    <path class=\"displacy-arrowhead\" d=\"M575.0,91.5 L583.0,79.5 567.0,79.5\" fill=\"currentColor\"/>\n</g>\n</svg></span>"
     },
     "metadata": {},
     "output_type": "display_data"
    }
   ],
   "source": [
    "from spacy import displacy\n",
    "\n",
    "displacy.render(doc)"
   ]
  },
  {
   "cell_type": "code",
   "execution_count": 7,
   "metadata": {},
   "outputs": [
    {
     "name": "stdout",
     "output_type": "stream",
     "text": [
      "Where SCONJ advmod\n",
      "does VERB ROOT\n",
      "Console PROPN nsubj\n",
      ". PUNCT punct\n",
      "WriteLine PROPN nsubj\n",
      "go VERB ROOT\n",
      "in ADP prep\n",
      "ASP.NET PROPN pobj\n",
      "? PUNCT punct\n"
     ]
    }
   ],
   "source": [
    "for t in nlp(\"Where does Console.WriteLine go in ASP.NET?\"):\n",
    "    print(t, t.pos_, t.dep_)"
   ]
  },
  {
   "cell_type": "markdown",
   "metadata": {},
   "source": [
    "# Back to Detecting Golang\n",
    "\n",
    "Let's now use it one more time for our problem of detecting the `go` language. I'll also go ahead and write the code in a more performant way."
   ]
  },
  {
   "cell_type": "code",
   "execution_count": 8,
   "metadata": {},
   "outputs": [],
   "source": [
    "nlp = spacy.load(\"en_core_web_sm\")"
   ]
  },
  {
   "cell_type": "code",
   "execution_count": 10,
   "metadata": {},
   "outputs": [],
   "source": [
    "df = (pd.read_csv(\"archive/Questions.csv\", nrows=2_000_000,\n",
    "                  encoding=\"ISO-8859-1\", usecols=['Title', 'Id']))\n",
    "\n",
    "titles = [_ for _ in df.loc[lambda d: d['Title'].str.lower().str.contains(\"go\")]['Title']]"
   ]
  },
  {
   "cell_type": "code",
   "execution_count": 11,
   "metadata": {},
   "outputs": [],
   "source": [
    "nlp = spacy.load(\"en_core_web_sm\", disable=[\"ner\"])"
   ]
  },
  {
   "cell_type": "code",
   "execution_count": 12,
   "metadata": {},
   "outputs": [
    {
     "name": "stdout",
     "output_type": "stream",
     "text": [
      "CPU times: user 10.1 s, sys: 11.5 ms, total: 10.2 s\n",
      "Wall time: 10.2 s\n"
     ]
    },
    {
     "data": {
      "text/plain": "[Can I append an Ajax requestXML object to my document tree all in one go?,\n How do I disable multiple listboxes in one go using jQuery?,\n Trouble reading from a socket in go,\n Is there a way to find a specific file and then change into the directory containing it in one go?,\n How many records can be loaded into Salesforce using Apex Data Loader in one go?,\n How can I run multiple inserts with NHibernate in one go?,\n what's the state of go language IDE support?,\n Decrypt many PDFs in one go using pdftk,\n Generating Random Numbers in Go,\n making generic algorithms in go,\n How do I allocate memory for an array in the go programming language?,\n Pass variables into Thread on the go?,\n If two options are the same go to next option in second select,\n How to clone an element and insert it multiple times in one go?,\n How to use LevelDB in go?,\n Auto-complete with go-mode,\n Why is this Go code blocking?,\n How do I use an custom int type with range in go?,\n importing packages in go,\n Can Terracotta's BigMemory Go be used without EHCache?,\n How to generate IObservable index delta on the go?,\n how to convert a struct pointer to list of type pointers in go,\n Error pages in go based web application,\n Find excluded files in Visual Studio using >of (Open File) or Resharper Go To File commands?,\n Comparison And Ordering in Go,\n Can I commit one single SVN diff file instead of committing 10 individual files in one go?,\n crm 2011 lookup autocomplete on a go,\n Trouble getting a SubImage of an Image in Go,\n Android - which direction does the the y-axis go, top-to-bottom or bottom-to-top, in OpenGL textures, Bitmaps and GLUtils.texSubImage2D?,\n Canvas draw shapes on the go]"
     },
     "execution_count": 12,
     "metadata": {},
     "output_type": "execute_result"
    }
   ],
   "source": [
    "%%time\n",
    "\n",
    "def has_golang(doc):\n",
    "    for t in doc:\n",
    "        if t.lower_ in [\"go\", \"golang\"]:\n",
    "            if t.pos_ == \"NOUN\":\n",
    "                return True \n",
    "    return False\n",
    "\n",
    "g = (doc for doc in nlp.pipe(titles) if has_golang(doc))\n",
    "[next(g) for i in range(30)]"
   ]
  },
  {
   "cell_type": "markdown",
   "metadata": {},
   "source": [
    "This works! Now let's write some pandas code that will help us with our benchmarks.\n",
    "\n",
    "![](images/these-2.png)"
   ]
  },
  {
   "cell_type": "code",
   "execution_count": 15,
   "metadata": {},
   "outputs": [
    {
     "data": {
      "text/plain": "(1858, 918, 82)"
     },
     "execution_count": 15,
     "metadata": {},
     "output_type": "execute_result"
    }
   ],
   "source": [
    "df_tags = pd.read_csv(\"archive/Tags.csv\")\n",
    "go_ids = df_tags.loc[lambda d: d['Tag'] == 'go']['Id']\n",
    "\n",
    "def has_go_token(doc):\n",
    "    for t in doc:\n",
    "        if t.lower_ in ['go', 'golang']:\n",
    "            if t.pos_ != 'VERB':\n",
    "                return True\n",
    "    return False\n",
    "\n",
    "all_go_sentences = df.loc[lambda d: d['Id'].isin(go_ids)]['Title'].tolist()\n",
    "detectable = [d.text for d in nlp.pipe(all_go_sentences) if has_go_token(d)]\n",
    "\n",
    "non_detectable = (df\n",
    "                  .loc[lambda d: ~d['Id'].isin(go_ids)]\n",
    "                  .loc[lambda d: d['Title'].str.lower().str.contains(\"go\")]\n",
    "                  ['Title']\n",
    "                  .tolist())\n",
    "\n",
    "non_detectable = [d.text for d in nlp.pipe(non_detectable) if has_go_token(d)]\n",
    "\n",
    "len(all_go_sentences), len(detectable), len(non_detectable)"
   ]
  },
  {
   "cell_type": "markdown",
   "metadata": {},
   "source": [
    "Nice, we get some numbers that can result in a meaningful benchmark.\n",
    "\n",
    "We can calculate precision/recall like stats by running the code below. You can put a forloop around it if you want but as it is you can fiddle around with the `has_go_token` function to see how well it performs."
   ]
  },
  {
   "cell_type": "code",
   "execution_count": 16,
   "metadata": {},
   "outputs": [
    {
     "data": {
      "text/plain": "'0.918,1.0,0.918,en_core_web_sm,not-verb-but-pobj'"
     },
     "execution_count": 16,
     "metadata": {},
     "output_type": "execute_result"
    }
   ],
   "source": [
    "model_name = \"en_core_web_sm\"\n",
    "model = spacy.load(model_name, disable=[\"ner\"])\n",
    "\n",
    "def has_go_token(doc):\n",
    "    for t in doc:\n",
    "        if t.lower_ in [\"go\", \"golang\"]:\n",
    "            if t.pos_ != \"VERB\":\n",
    "                return True\n",
    "    return False\n",
    "\n",
    "method = \"not-verb-but-pobj\"\n",
    "\n",
    "correct = sum(has_go_token(doc) for doc in model.pipe(detectable))\n",
    "wrong = sum(has_go_token(doc) for doc in model.pipe(non_detectable))\n",
    "precision = correct/(correct + wrong)\n",
    "recall = correct/len(detectable)\n",
    "accuracy = (correct + len(non_detectable) - wrong)/(len(detectable) + len(non_detectable))\n",
    "\n",
    "f\"{precision},{recall},{accuracy},{model_name},{method}\" # this is logged"
   ]
  },
  {
   "cell_type": "markdown",
   "metadata": {},
   "source": [
    "Enjoy playing around with this."
   ]
  }
 ],
 "metadata": {
  "kernelspec": {
   "display_name": "Python 3",
   "language": "python",
   "name": "python3"
  },
  "language_info": {
   "codemirror_mode": {
    "name": "ipython",
    "version": 3
   },
   "file_extension": ".py",
   "mimetype": "text/x-python",
   "name": "python",
   "nbconvert_exporter": "python",
   "pygments_lexer": "ipython3",
   "version": "3.6.6"
  }
 },
 "nbformat": 4,
 "nbformat_minor": 4
}
